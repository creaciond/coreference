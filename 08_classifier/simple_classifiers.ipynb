{
 "cells": [
  {
   "cell_type": "markdown",
   "metadata": {},
   "source": [
    "# Классификаторы\n",
    "\n",
    "## Кореферентна ли пара меншенов?\n",
    "1) Импортируем всё необходимое. Данные лежат как флоаты, записанные через запятую."
   ]
  },
  {
   "cell_type": "code",
   "execution_count": 4,
   "metadata": {
    "collapsed": true
   },
   "outputs": [],
   "source": [
    "import os\n",
    "from sklearn import tree\n",
    "from sklearn import metrics"
   ]
  },
  {
   "cell_type": "markdown",
   "metadata": {},
   "source": [
    "2) Функция для чтения данных и преобразования их в массив флоатов из строк. Каждый раз, когда заканчивается работа с каким-то файлом, его название печататется."
   ]
  },
  {
   "cell_type": "code",
   "execution_count": 5,
   "metadata": {
    "collapsed": true
   },
   "outputs": [],
   "source": [
    "def read_file(path):\n",
    "    ready_data = []\n",
    "    with open(path, 'r', encoding='utf-8') as f:\n",
    "        data = [line.strip('\\n') for line in f.readlines()]\n",
    "    for item in data:\n",
    "        array = [float(array_item) for array_item in item.split(', ')]\n",
    "        ready_data.append(array)\n",
    "    return ready_data"
   ]
  },
  {
   "cell_type": "code",
   "execution_count": 6,
   "metadata": {},
   "outputs": [
    {
     "name": "stdout",
     "output_type": "stream",
     "text": [
      "Теперь есть содержимое из: .\\data_ready\\pairs\\1_test_features.txt\n",
      "Теперь есть содержимое из: .\\data_ready\\pairs\\1_test_results.txt\n",
      "Теперь есть содержимое из: .\\data_ready\\pairs\\1_train_features.txt\n",
      "Теперь есть содержимое из: .\\data_ready\\pairs\\1_train_results.txt\n"
     ]
    }
   ],
   "source": [
    "pairs_path = '.' + os.sep + 'data_ready' + os.sep + 'pairs'\n",
    "for item in os.listdir(pairs_path):\n",
    "    if item.endswith('.txt'):\n",
    "        full_path =  pairs_path + os.sep + item\n",
    "        if 'train' in item:\n",
    "            if 'features' in item:\n",
    "                pairs_train_features = read_file(full_path)\n",
    "            elif 'results' in item:\n",
    "                pairs_train_results = read_file(full_path)\n",
    "        elif 'test' in item:\n",
    "            if 'features' in item:\n",
    "                pairs_test_features = read_file(full_path)\n",
    "            elif 'results' in item:\n",
    "                pairs_test_results = read_file(full_path)\n",
    "        print('Теперь есть содержимое из: {}'.format(full_path))"
   ]
  },
  {
   "cell_type": "markdown",
   "metadata": {},
   "source": [
    "3) Классификатор и его обучение ```fit```, затем \"прогон\" на тестовой выборке ```predict``` и вычисление метрик."
   ]
  },
  {
   "cell_type": "code",
   "execution_count": 7,
   "metadata": {},
   "outputs": [],
   "source": [
    "clf_pairs = tree.DecisionTreeClassifier()\n",
    "clf_pairs = clf_pairs.fit(pairs_train_features, pairs_train_results)"
   ]
  },
  {
   "cell_type": "code",
   "execution_count": 8,
   "metadata": {},
   "outputs": [
    {
     "name": "stdout",
     "output_type": "stream",
     "text": [
      "Precision/точность: 0.7101, recall/полнота: 0.6170, F1-мера: 0.6603\n"
     ]
    }
   ],
   "source": [
    "pairs_test_out = clf_pairs.predict(pairs_test_features)\n",
    "# считаем цифры\n",
    "precision = metrics.precision_score(pairs_test_results, pairs_test_out)\n",
    "recall = metrics.recall_score(pairs_test_results, pairs_test_out)\n",
    "f1 = metrics.f1_score(pairs_test_results, pairs_test_out)\n",
    "print('Precision/точность: {0:.4f}, recall/полнота: {1:.4f}, F1-мера: {2:.4f}'.format(precision, recall, f1))"
   ]
  },
  {
   "cell_type": "markdown",
   "metadata": {},
   "source": [
    "## Является ли токен меншеном?\n",
    "\n",
    "1) Считываем данные (аналогично парам):"
   ]
  },
  {
   "cell_type": "code",
   "execution_count": 9,
   "metadata": {},
   "outputs": [
    {
     "name": "stdout",
     "output_type": "stream",
     "text": [
      "Теперь есть содержимое из: .\\data_ready\\pairs\\1_test_features.txt\n",
      "Теперь есть содержимое из: .\\data_ready\\pairs\\1_test_results.txt\n",
      "Теперь есть содержимое из: .\\data_ready\\pairs\\1_train_features.txt\n",
      "Теперь есть содержимое из: .\\data_ready\\pairs\\1_train_results.txt\n"
     ]
    }
   ],
   "source": [
    "mentions_path = '.' + os.sep + 'data_ready' + os.sep + 'pairs'\n",
    "for item in os.listdir(mentions_path):\n",
    "    if item.endswith('.txt'):\n",
    "        full_path =  mentions_path + os.sep + item\n",
    "        if 'train' in item:\n",
    "            if 'features' in item:\n",
    "                mentions_train_features = read_file(full_path)\n",
    "            elif 'results' in item:\n",
    "                mentions_train_results = read_file(full_path)\n",
    "        elif 'test' in item:\n",
    "            if 'features' in item:\n",
    "                mentions_test_features = read_file(full_path)\n",
    "            elif 'results' in item:\n",
    "                mentions_test_results = read_file(full_path)\n",
    "        print('Теперь есть содержимое из: {}'.format(full_path))"
   ]
  },
  {
   "cell_type": "markdown",
   "metadata": {},
   "source": [
    "2) Классификатор, его обучение и вычисление метрик."
   ]
  },
  {
   "cell_type": "code",
   "execution_count": 10,
   "metadata": {},
   "outputs": [
    {
     "name": "stdout",
     "output_type": "stream",
     "text": [
      "Precision/точность: 0.7101, recall/полнота: 0.6170, F1-мера: 0.6603\n"
     ]
    }
   ],
   "source": [
    "clf_mentions = tree.DecisionTreeClassifier()\n",
    "clf_mentions = clf_mentions.fit(mentions_train_features, mentions_train_results)\n",
    "mentions_test_out = clf_pairs.predict(mentions_test_features)\n",
    "\n",
    "precision = metrics.precision_score(mentions_test_results, mentions_test_out)\n",
    "recall = metrics.recall_score(mentions_test_results, mentions_test_out)\n",
    "f1 = metrics.f1_score(mentions_test_results, mentions_test_out)\n",
    "print('Precision/точность: {0:.4f}, recall/полнота: {1:.4f}, F1-мера: {2:.4f}'.format(precision, recall, f1))"
   ]
  }
 ],
 "metadata": {
  "kernelspec": {
   "display_name": "Python 3",
   "language": "python",
   "name": "python3"
  },
  "language_info": {
   "codemirror_mode": {
    "name": "ipython",
    "version": 3
   },
   "file_extension": ".py",
   "mimetype": "text/x-python",
   "name": "python",
   "nbconvert_exporter": "python",
   "pygments_lexer": "ipython3",
   "version": "3.6.1"
  }
 },
 "nbformat": 4,
 "nbformat_minor": 2
}
