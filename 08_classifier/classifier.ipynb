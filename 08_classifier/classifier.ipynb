{
 "cells": [
  {
   "cell_type": "markdown",
   "metadata": {},
   "source": [
    "# Классификатор для вероятности кореферентности\n",
    "\n",
    "**NB:** здесь и дальше используется терминология от компрены"
   ]
  },
  {
   "cell_type": "markdown",
   "metadata": {},
   "source": [
    "## Данные\n",
    "\n",
    "### Входные\n",
    "\n",
    "* ```semantic_deep``` — глубинный семантический класс\n",
    "* ```semantic_surface``` — поверхностный семантический класс\n",
    "* ```syntax_surface``` — поверхностный синтаксический класс\n",
    "* ```syntax_paradigm``` — значение \"синтаксической парадигмы\" (~составляющая)\n",
    "* ```morphology``` — морфологические характеристики токена\n",
    "\n",
    "### Выходные\n",
    "```is_coreferent``` — является ли токен кореферентным меншеном"
   ]
  },
  {
   "cell_type": "markdown",
   "metadata": {},
   "source": [
    "## Датасет\n",
    "Подгружается из \"соседнего\" файла. См. примерный образец ниже:"
   ]
  },
  {
   "cell_type": "code",
   "execution_count": 1,
   "metadata": {},
   "outputs": [
    {
     "data": {
      "text/html": [
       "<div>\n",
       "<style>\n",
       "    .dataframe thead tr:only-child th {\n",
       "        text-align: right;\n",
       "    }\n",
       "\n",
       "    .dataframe thead th {\n",
       "        text-align: left;\n",
       "    }\n",
       "\n",
       "    .dataframe tbody tr th {\n",
       "        vertical-align: top;\n",
       "    }\n",
       "</style>\n",
       "<table border=\"1\" class=\"dataframe\">\n",
       "  <thead>\n",
       "    <tr style=\"text-align: right;\">\n",
       "      <th></th>\n",
       "      <th>semantic_deep</th>\n",
       "      <th>semantic_surface</th>\n",
       "      <th>syntax_surface</th>\n",
       "      <th>syntax_paradigm</th>\n",
       "      <th>morphology</th>\n",
       "      <th>is_coreferent</th>\n",
       "    </tr>\n",
       "  </thead>\n",
       "  <tbody>\n",
       "    <tr>\n",
       "      <th>0</th>\n",
       "      <td>2529195</td>\n",
       "      <td>4484</td>\n",
       "      <td>1059</td>\n",
       "      <td>38</td>\n",
       "      <td>ADJF,Qual femn,sing,nomn</td>\n",
       "      <td>1</td>\n",
       "    </tr>\n",
       "    <tr>\n",
       "      <th>1</th>\n",
       "      <td>2700830</td>\n",
       "      <td>4573</td>\n",
       "      <td>5597</td>\n",
       "      <td>7</td>\n",
       "      <td>NOUN,inan,femn sing,nomn</td>\n",
       "      <td>1</td>\n",
       "    </tr>\n",
       "    <tr>\n",
       "      <th>2</th>\n",
       "      <td>2765291</td>\n",
       "      <td>4476</td>\n",
       "      <td>1440</td>\n",
       "      <td>7</td>\n",
       "      <td>NOUN,inan,neut sing,gent</td>\n",
       "      <td>1</td>\n",
       "    </tr>\n",
       "    <tr>\n",
       "      <th>3</th>\n",
       "      <td>2668592</td>\n",
       "      <td>4556</td>\n",
       "      <td>1205</td>\n",
       "      <td>5</td>\n",
       "      <td>VERB,perf,intr femn,sing,past,indc</td>\n",
       "      <td>0</td>\n",
       "    </tr>\n",
       "    <tr>\n",
       "      <th>4</th>\n",
       "      <td>2529195</td>\n",
       "      <td>4484</td>\n",
       "      <td>1059</td>\n",
       "      <td>38</td>\n",
       "      <td>ADJF,Qual femn,sing,nomn</td>\n",
       "      <td>1</td>\n",
       "    </tr>\n",
       "  </tbody>\n",
       "</table>\n",
       "</div>"
      ],
      "text/plain": [
       "   semantic_deep  semantic_surface  syntax_surface  syntax_paradigm  \\\n",
       "0        2529195              4484            1059               38   \n",
       "1        2700830              4573            5597                7   \n",
       "2        2765291              4476            1440                7   \n",
       "3        2668592              4556            1205                5   \n",
       "4        2529195              4484            1059               38   \n",
       "\n",
       "                           morphology  is_coreferent  \n",
       "0            ADJF,Qual femn,sing,nomn              1  \n",
       "1            NOUN,inan,femn sing,nomn              1  \n",
       "2            NOUN,inan,neut sing,gent              1  \n",
       "3  VERB,perf,intr femn,sing,past,indc              0  \n",
       "4            ADJF,Qual femn,sing,nomn              1  "
      ]
     },
     "execution_count": 1,
     "metadata": {},
     "output_type": "execute_result"
    }
   ],
   "source": [
    "import pandas as pd\n",
    "import os\n",
    "\n",
    "dataset_path = '.' + os.sep + 'rucor_data.csv'\n",
    "df = pd.read_csv(dataset_path, sep=';')\n",
    "df.head()"
   ]
  },
  {
   "cell_type": "code",
   "execution_count": 3,
   "metadata": {},
   "outputs": [
    {
     "ename": "SyntaxError",
     "evalue": "invalid syntax (<ipython-input-3-3302c2f6c3e1>, line 16)",
     "output_type": "error",
     "traceback": [
      "\u001b[1;36m  File \u001b[1;32m\"<ipython-input-3-3302c2f6c3e1>\"\u001b[1;36m, line \u001b[1;32m16\u001b[0m\n\u001b[1;33m    for count in range(df.shape[0]):\u001b[0m\n\u001b[1;37m                                   ^\u001b[0m\n\u001b[1;31mSyntaxError\u001b[0m\u001b[1;31m:\u001b[0m invalid syntax\n"
     ]
    }
   ],
   "source": [
    "training_data = []\n",
    "training_results = []\n",
    "validation_data = []\n",
    "validation_results = []\n",
    "test_data = []\n",
    "test_results = []\n",
    "\n",
    "total_examples = df.shape[0]\n",
    "training_max = int(total_examples * 0.8 * 0.8)\n",
    "validation_max = int(total_examples * 0.8 * 0.2)\n",
    "test_max = int(total_examples * 0.2)\n",
    "sum_examples = training_max + validation_max + test_max\n",
    "print('PRE-COUNT:\\ntraining: {0}, validation: {1}, test: {2}\\nsum: {3}, total: {4}'.format(training_max, \n",
    "    validation_max, test_max, sum_examples, total_examples)\n",
    "\n",
    "for count in range(df.shape[0]):\n",
    "      # все признаки конкретного объекта:\n",
    "      # count — порядковый номер строки\n",
    "      # 0:5 — номера колонок с признаками\n",
    "      if count < training_max:\n",
    "          training_data.append(list(df.iloc[count, 0:5]))\n",
    "          training_results.append(df.iloc[count, -1])\n",
    "      elif count >= training_max and count < (training_max + validation_max):\n",
    "          validation_data.append(list(df.iloc[count, 0:5]))\n",
    "          validation_results.append(df.iloc[count, -1])\n",
    "      elif count < (training_max + validation_max + test_max):\n",
    "          test_data.append(list(df.iloc[count, 0:5]))\n",
    "          test_results.append(df.iloc[count, -1])\n",
    "print('SPLIT\\ntrain: {0}, validation: {1}, test: {2}'.format(len(training_results), len(validation_results), len(test_results)))"
   ]
  }
 ],
 "metadata": {
  "kernelspec": {
   "display_name": "Python 3",
   "language": "python",
   "name": "python3"
  },
  "language_info": {
   "codemirror_mode": {
    "name": "ipython",
    "version": 3
   },
   "file_extension": ".py",
   "mimetype": "text/x-python",
   "name": "python",
   "nbconvert_exporter": "python",
   "pygments_lexer": "ipython3",
   "version": "3.6.1"
  }
 },
 "nbformat": 4,
 "nbformat_minor": 2
}
