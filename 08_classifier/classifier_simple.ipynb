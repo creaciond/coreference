{
 "cells": [
  {
   "cell_type": "markdown",
   "metadata": {},
   "source": [
    "1) Импортируем всё необходимое. Данные лежат как флоаты, записанные через запятую."
   ]
  },
  {
   "cell_type": "code",
   "execution_count": 1,
   "metadata": {
    "collapsed": true
   },
   "outputs": [],
   "source": [
    "import os\n",
    "from sklearn import tree\n",
    "from sklearn import metrics"
   ]
  },
  {
   "cell_type": "markdown",
   "metadata": {},
   "source": [
    "2) Функция для чтения данных и преобразования их в массив флоатов из строк. Каждый раз, когда заканчивается работа с каким-то файлом, его название печататется."
   ]
  },
  {
   "cell_type": "code",
   "execution_count": 2,
   "metadata": {
    "collapsed": true
   },
   "outputs": [],
   "source": [
    "def read_file(path):\n",
    "    ready_data = []\n",
    "    with open(path, 'r', encoding='utf-8') as f:\n",
    "        data = [line.strip('\\n') for line in f.readlines()]\n",
    "    for item in data:\n",
    "        array = [float(array_item) for array_item in item.split(', ')]\n",
    "        ready_data.append(array)\n",
    "    return ready_data"
   ]
  },
  {
   "cell_type": "code",
   "execution_count": 3,
   "metadata": {},
   "outputs": [
    {
     "name": "stdout",
     "output_type": "stream",
     "text": [
      "Теперь есть содержимое из: .\\data_ready\\1_features_test.csv\n",
      "Теперь есть содержимое из: .\\data_ready\\1_features_train.csv\n",
      "Теперь есть содержимое из: .\\data_ready\\1_results_test.csv\n",
      "Теперь есть содержимое из: .\\data_ready\\1_results_train.csv\n"
     ]
    }
   ],
   "source": [
    "path = '.' + os.sep + 'data_ready'\n",
    "for item in os.listdir(path):\n",
    "    if item.endswith('.csv'):\n",
    "        full_path =  path + os.sep + item\n",
    "        if 'train' in item:\n",
    "            if 'features' in item:\n",
    "                train_features = read_file(full_path)\n",
    "            elif 'results' in item:\n",
    "                train_results = read_file(full_path)\n",
    "        elif 'test' in item:\n",
    "            if 'features' in item:\n",
    "                test_features = read_file(full_path)\n",
    "            elif 'results' in item:\n",
    "                test_results = read_file(full_path)\n",
    "        print('Теперь есть содержимое из: {}'.format(full_path))"
   ]
  },
  {
   "cell_type": "markdown",
   "metadata": {},
   "source": [
    "3) Классификатор и его обучение ```fit```, затем \"прогон\" на тестовой выборке ```predict``` и вычисление метрик."
   ]
  },
  {
   "cell_type": "code",
   "execution_count": 4,
   "metadata": {},
   "outputs": [],
   "source": [
    "clf = tree.DecisionTreeClassifier()\n",
    "clf = clf.fit(train_features, train_results)"
   ]
  },
  {
   "cell_type": "code",
   "execution_count": 5,
   "metadata": {},
   "outputs": [
    {
     "name": "stdout",
     "output_type": "stream",
     "text": [
      "Precision/точность: 0.7487, recall/полнота: 0.6110, F1-мера: 0.6729\n"
     ]
    }
   ],
   "source": [
    "test_out = clf.predict(test_features)\n",
    "# считаем цифры\n",
    "precision = metrics.precision_score(test_results, test_out)\n",
    "recall = metrics.recall_score(test_results, test_out)\n",
    "f1 = metrics.f1_score(test_results, test_out)\n",
    "print('Precision/точность: {0:.4f}, recall/полнота: {1:.4f}, F1-мера: {2:.4f}'.format(precision, recall, f1))"
   ]
  }
 ],
 "metadata": {
  "kernelspec": {
   "display_name": "Python 3",
   "language": "python",
   "name": "python3"
  },
  "language_info": {
   "codemirror_mode": {
    "name": "ipython",
    "version": 3
   },
   "file_extension": ".py",
   "mimetype": "text/x-python",
   "name": "python",
   "nbconvert_exporter": "python",
   "pygments_lexer": "ipython3",
   "version": "3.6.1"
  }
 },
 "nbformat": 4,
 "nbformat_minor": 2
}
