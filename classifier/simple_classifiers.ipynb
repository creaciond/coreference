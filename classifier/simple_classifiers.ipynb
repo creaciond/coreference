{
 "cells": [
  {
   "cell_type": "markdown",
   "metadata": {},
   "source": [
    "# Классификаторы\n",
    "\n",
    "## Предварительное\n",
    "\n",
    "1) Импортируем всё необходимое. Данные лежат как флоаты, записанные через запятую."
   ]
  },
  {
   "cell_type": "code",
   "execution_count": 1,
   "metadata": {},
   "outputs": [],
   "source": [
    "import numpy as np\n",
    "import os\n",
    "from sklearn import metrics, tree\n",
    "from sklearn.neural_network import MLPClassifier"
   ]
  },
  {
   "cell_type": "markdown",
   "metadata": {},
   "source": [
    "2.1) Функция для чтения данных и преобразования их в массив флоатов из строк. Каждый раз, когда заканчивается работа с каким-то файлом, его название печататется."
   ]
  },
  {
   "cell_type": "code",
   "execution_count": 2,
   "metadata": {
    "collapsed": true
   },
   "outputs": [],
   "source": [
    "def read_file(path):\n",
    "    ready_data = []\n",
    "    with open(path, 'r', encoding='utf-8') as f:\n",
    "        data = [line.strip('\\n') for line in f.readlines()]\n",
    "    for item in data:\n",
    "        array = [float(array_item) for array_item in item.split(', ')]\n",
    "        ready_data.append(array)\n",
    "    return ready_data"
   ]
  },
  {
   "cell_type": "markdown",
   "metadata": {},
   "source": [
    "2.2) Функция для чтения всего из файлов."
   ]
  },
  {
   "cell_type": "code",
   "execution_count": 3,
   "metadata": {
    "collapsed": true
   },
   "outputs": [],
   "source": [
    "def all_data(folder):\n",
    "    for item in os.listdir(folder):\n",
    "        if item.endswith('.txt'):\n",
    "            full_path =  folder + os.sep + item\n",
    "            if 'train' in item:\n",
    "                if 'features' in item:\n",
    "                    train_features = read_file(full_path)\n",
    "                elif 'results' in item:\n",
    "                    train_results = read_file(full_path)\n",
    "            elif 'test' in item:\n",
    "                if 'features' in item:\n",
    "                    test_features = read_file(full_path)\n",
    "                elif 'results' in item:\n",
    "                    test_results = read_file(full_path)\n",
    "            print('Теперь есть содержимое из: {}'.format(full_path))\n",
    "    return train_features, train_results, test_features, test_results"
   ]
  },
  {
   "cell_type": "markdown",
   "metadata": {},
   "source": [
    "## Дерево решений\n",
    "### Кореферентна ли пара меншенов?"
   ]
  },
  {
   "cell_type": "code",
   "execution_count": 4,
   "metadata": {},
   "outputs": [
    {
     "name": "stdout",
     "output_type": "stream",
     "text": [
      "Теперь есть содержимое из: .\\data_ready\\pairs\\1_test_features.txt\n",
      "Теперь есть содержимое из: .\\data_ready\\pairs\\1_test_results.txt\n",
      "Теперь есть содержимое из: .\\data_ready\\pairs\\1_train_features.txt\n",
      "Теперь есть содержимое из: .\\data_ready\\pairs\\1_train_results.txt\n"
     ]
    }
   ],
   "source": [
    "# чтение данных\n",
    "pairs_path = '.' + os.sep + 'data_ready' + os.sep + 'pairs'\n",
    "pairs_train_features, pairs_train_results, pairs_test_features, pairs_test_results = all_data(pairs_path)"
   ]
  },
  {
   "cell_type": "code",
   "execution_count": 5,
   "metadata": {},
   "outputs": [
    {
     "name": "stdout",
     "output_type": "stream",
     "text": [
      "Precision/точность: 0.7097, recall/полнота: 0.6003, F1-мера: 0.6504\n"
     ]
    }
   ],
   "source": [
    "# классификатор и его обучение fit\n",
    "clf_pairs = tree.DecisionTreeClassifier()\n",
    "clf_pairs = clf_pairs.fit(pairs_train_features, pairs_train_results)\n",
    "\n",
    "# \"прогон\" на тестовой выборке predict\n",
    "pairs_test_out = clf_pairs.predict(pairs_test_features)\n",
    "\n",
    "# считаем цифры\n",
    "precision = metrics.precision_score(pairs_test_results, pairs_test_out)\n",
    "recall = metrics.recall_score(pairs_test_results, pairs_test_out)\n",
    "f1 = metrics.f1_score(pairs_test_results, pairs_test_out)\n",
    "\n",
    "print('Precision/точность: {0:.4f}, recall/полнота: {1:.4f}, F1-мера: {2:.4f}'.format(precision, recall, f1))"
   ]
  },
  {
   "cell_type": "markdown",
   "metadata": {},
   "source": [
    "### Является ли токен меншеном?"
   ]
  },
  {
   "cell_type": "code",
   "execution_count": 6,
   "metadata": {},
   "outputs": [
    {
     "name": "stdout",
     "output_type": "stream",
     "text": [
      "Теперь есть содержимое из: .\\data_ready\\mentions\\1_test_features.txt\n",
      "Теперь есть содержимое из: .\\data_ready\\mentions\\1_test_results.txt\n",
      "Теперь есть содержимое из: .\\data_ready\\mentions\\1_train_features.txt\n",
      "Теперь есть содержимое из: .\\data_ready\\mentions\\1_train_results.txt\n"
     ]
    }
   ],
   "source": [
    "# чтение данных\n",
    "mentions_path = '.' + os.sep + 'data_ready' + os.sep + 'mentions'\n",
    "mentions_train_features, mentions_train_results, mentions_test_features, mentions_test_results = all_data(mentions_path)"
   ]
  },
  {
   "cell_type": "code",
   "execution_count": 7,
   "metadata": {},
   "outputs": [
    {
     "name": "stdout",
     "output_type": "stream",
     "text": [
      "[0.084445, 0.126005, -0.014148, 0.081389, 4105.0, 1440.0, 0.0, 0.0, 0.0, 0.0, 0.0, 0.0, 1.0, 0.0, 0.0, 0.0, 0.0, 0.0] [1.0]\n",
      "[0.035364, -0.019608, 0.049433, -0.049013, 4559.0, 1440.0, 0.0, 0.0, 0.0, 0.0, 0.0, 0.0, 1.0, 0.0, 0.0, 0.0, 0.0, 0.0] [0.0]\n",
      "[-0.082982, 0.023175, -0.018279, -0.109374, 4150.0, 329.0, 0.0, 0.0, 0.0, 0.0, 0.0, 0.0, 1.0, 0.0, 0.0, 0.0, 0.0, 0.0] [0.0]\n",
      "[-0.004722, 0.005383, -0.014413, -0.018328, 4184.0, 5272.0, 0.0, 0.0, 0.0, 0.0, 0.0, 0.0, 1.0, 0.0, 0.0, 0.0, 0.0, 0.0] [0.0]\n",
      "[0.048718, -0.091589, 0.01619, -0.066449, 4143.0, 2156.0, 0.0, 0.0, 0.0, 0.0, 0.0, 0.0, 1.0, 0.0, 0.0, 0.0, 0.0, 0.0] [0.0]\n"
     ]
    }
   ],
   "source": [
    "for item, res in zip(mentions_train_features[:5], mentions_train_results[:5]):\n",
    "    print(item, res)"
   ]
  },
  {
   "cell_type": "code",
   "execution_count": 13,
   "metadata": {},
   "outputs": [
    {
     "name": "stdout",
     "output_type": "stream",
     "text": [
      "[0.000774, -0.114928, 0.064845, 0.005316, 4143.0, 2156.0, 0.0, 0.0, 0.0, 0.0, 0.0, 0.0, 1.0, 0.0, 0.0, 0.0, 0.0, 0.0] 0.0 [0.0]\n",
      "[0.000774, -0.114928, 0.064845, 0.005316, 4517.0, 70.0, 0.0, 0.0, 0.0, 0.0, 0.0, 0.0, 1.0, 0.0, 0.0, 0.0, 0.0, 0.0] 0.0 [1.0]\n",
      "[-0.040441, 0.014054, 0.08216, -0.000298, 4401.0, 3373.0, 0.0, 0.0, 0.0, 0.0, 0.0, 0.0, 1.0, 0.0, 0.0, 0.0, 0.0, 0.0] 0.0 [0.0]\n",
      "[-0.022995, -0.008026, -0.084798, 0.130307, 4573.0, 1204.0, 0.0, 0.0, 0.0, 0.0, 0.0, 0.0, 1.0, 0.0, 0.0, 0.0, 0.0, 0.0] 0.0 [1.0]\n",
      "[-0.056055, 0.031917, 0.081976, -0.044163, 4841.0, 5186.0, 0.0, 0.0, 0.0, 0.0, 0.0, 0.0, 1.0, 0.0, 0.0, 0.0, 0.0, 0.0] 1.0 [0.0]\n",
      "Precision/точность: 0.1429, recall/полнота: 0.1429, F1-мера: 0.1429\n"
     ]
    }
   ],
   "source": [
    "# классификатор и его обучение fit\n",
    "clf_mentions = tree.DecisionTreeClassifier()\n",
    "clf_mentions = clf_mentions.fit(mentions_train_features, mentions_train_results)\n",
    "\n",
    "# \"прогон\" на тестовой выборке predict\n",
    "mentions_test_out = clf_mentions.predict(mentions_test_features)\n",
    "for feature, predict, actual in zip(mentions_test_features[:5], mentions_test_out[:5], mentions_test_results[:5]):\n",
    "    print(feature, predict, actual)\n",
    "\n",
    "# считаем цифры\n",
    "precision = metrics.precision_score(mentions_test_results, mentions_test_out)\n",
    "recall = metrics.recall_score(mentions_test_results, mentions_test_out)\n",
    "f1 = metrics.f1_score(mentions_test_results, mentions_test_out)\n",
    "\n",
    "print('Precision/точность: {0:.4f}, recall/полнота: {1:.4f}, F1-мера: {2:.4f}'.format(precision, recall, f1))"
   ]
  },
  {
   "cell_type": "markdown",
   "metadata": {},
   "source": [
    "## Нейросети\n",
    "\n",
    "### Кореферентна ли пара меншенов?"
   ]
  },
  {
   "cell_type": "code",
   "execution_count": 9,
   "metadata": {},
   "outputs": [
    {
     "name": "stdout",
     "output_type": "stream",
     "text": [
      "X_pairs: (9250, 32), Y_pairs: (9250,)\n"
     ]
    }
   ],
   "source": [
    "# подготовка: результаты нужно транспонировать\n",
    "X_pairs = np.array(pairs_train_features)\n",
    "Y_pairs = np.ravel(pairs_train_results)\n",
    "print('X_pairs: {}, Y_pairs: {}'.format(X_pairs.shape, Y_pairs.shape))\n",
    "\n",
    "# работа с нейронной сетью\n",
    "neural_pairs = MLPClassifier(solver='lbfgs', hidden_layer_sizes=(32))\n",
    "neural_pairs = neural_pairs.fit(X_pairs, Y_pairs)"
   ]
  },
  {
   "cell_type": "code",
   "execution_count": 10,
   "metadata": {},
   "outputs": [
    {
     "name": "stdout",
     "output_type": "stream",
     "text": [
      "Precision/точность: 0.7811, recall/полнота: 0.4701, F1-мера: 0.5869\n"
     ]
    }
   ],
   "source": [
    "Y_predict = neural_pairs.predict(np.array(pairs_test_features))\n",
    "\n",
    "# считаем цифры\n",
    "precision = metrics.precision_score(pairs_test_results, Y_predict)\n",
    "recall = metrics.recall_score(pairs_test_results, Y_predict)\n",
    "f1 = metrics.f1_score(pairs_test_results, Y_predict)\n",
    "\n",
    "print('Precision/точность: {0:.4f}, recall/полнота: {1:.4f}, F1-мера: {2:.4f}'.format(precision, recall, f1))"
   ]
  },
  {
   "cell_type": "markdown",
   "metadata": {},
   "source": [
    "### Является ли токен меншеном?"
   ]
  },
  {
   "cell_type": "code",
   "execution_count": 12,
   "metadata": {},
   "outputs": [
    {
     "name": "stdout",
     "output_type": "stream",
     "text": [
      "X1: (109, 18), Y1: (109,)\n",
      "Precision/точность: 0.0000, recall/полнота: 0.0000, F1-мера: 0.0000\n"
     ]
    },
    {
     "name": "stderr",
     "output_type": "stream",
     "text": [
      "C:\\Users\\DMaksimova\\AppData\\Local\\Continuum\\Anaconda3\\lib\\site-packages\\sklearn\\metrics\\classification.py:1113: UndefinedMetricWarning: Precision is ill-defined and being set to 0.0 due to no predicted samples.\n",
      "  'precision', 'predicted', average, warn_for)\n",
      "C:\\Users\\DMaksimova\\AppData\\Local\\Continuum\\Anaconda3\\lib\\site-packages\\sklearn\\metrics\\classification.py:1113: UndefinedMetricWarning: F-score is ill-defined and being set to 0.0 due to no predicted samples.\n",
      "  'precision', 'predicted', average, warn_for)\n"
     ]
    }
   ],
   "source": [
    "Y1 = np.ravel(mentions_train_results)\n",
    "X1 = np.array(mentions_train_features)\n",
    "print('X1: {}, Y1: {}'.format(X1.shape, Y1.shape))\n",
    "\n",
    "# работа с нейронной сетью\n",
    "neural_mentions = MLPClassifier(solver='lbfgs', hidden_layer_sizes=(5))\n",
    "neural_mentions = neural_pairs.fit(X1, Y1)\n",
    "\n",
    "# результаты\n",
    "Y1_goal = np.ravel(mentions_test_results)\n",
    "Y1_predict = neural_mentions.predict(np.array(mentions_test_features))\n",
    "\n",
    "# считаем цифры\n",
    "precision = metrics.precision_score(Y1_goal, Y1_predict)\n",
    "recall = metrics.recall_score(Y1_goal, Y1_predict)\n",
    "f1 = metrics.f1_score(Y1_goal, Y1_predict)\n",
    "\n",
    "print('Precision/точность: {0:.4f}, recall/полнота: {1:.4f}, F1-мера: {2:.4f}'.format(precision, recall, f1))"
   ]
  }
 ],
 "metadata": {
  "kernelspec": {
   "display_name": "Python 3",
   "language": "python",
   "name": "python3"
  },
  "language_info": {
   "codemirror_mode": {
    "name": "ipython",
    "version": 3
   },
   "file_extension": ".py",
   "mimetype": "text/x-python",
   "name": "python",
   "nbconvert_exporter": "python",
   "pygments_lexer": "ipython3",
   "version": "3.6.1"
  }
 },
 "nbformat": 4,
 "nbformat_minor": 2
}
